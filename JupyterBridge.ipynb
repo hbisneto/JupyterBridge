{
 "cells": [
  {
   "cell_type": "markdown",
   "metadata": {},
   "source": [
    "## External Packages\n",
    "Packages to set before you go\n",
    "<br>Uncomment the code below to install dependencies"
   ]
  },
  {
   "cell_type": "code",
   "execution_count": null,
   "metadata": {},
   "outputs": [],
   "source": [
    "# %pip install pandas\n",
    "# %pip install numpy\n",
    "# %pip install qgrid\n",
    "# %pip install matplotlib\n",
    "# %pip install seaborn"
   ]
  },
  {
   "cell_type": "markdown",
   "metadata": {},
   "source": [
    "## Check PyBridge Libraries\n",
    "Required libraries will be imported before you run your Jupyter Notebook"
   ]
  },
  {
   "cell_type": "code",
   "execution_count": null,
   "metadata": {},
   "outputs": [],
   "source": [
    "try:\n",
    "   ## Imported Libraries\n",
    "   from sys import platform\n",
    "\n",
    "   ## Local Libraries\n",
    "   from exception import Exceptions\n",
    "except:\n",
    "   raise RuntimeError('>> Could not import library: Check if the libraries are installed and run the program again.')"
   ]
  },
  {
   "cell_type": "markdown",
   "metadata": {},
   "source": [
    "## Linux Imports\n",
    "Imports to use in Linux Environments"
   ]
  },
  {
   "cell_type": "code",
   "execution_count": null,
   "metadata": {},
   "outputs": [],
   "source": [
    "## Linux\n",
    "if platform == \"linux\" or platform == \"linux2\":\n",
    "   from linux import FileSystem"
   ]
  },
  {
   "cell_type": "markdown",
   "metadata": {},
   "source": [
    "## macOS Imports\n",
    "Imports to use in macOS Environments"
   ]
  },
  {
   "cell_type": "code",
   "execution_count": null,
   "metadata": {},
   "outputs": [],
   "source": [
    "## Mac\n",
    "if platform == \"darwin\":\n",
    "   from mac import FileSystem"
   ]
  },
  {
   "cell_type": "markdown",
   "metadata": {},
   "source": [
    "## Windows Imports\n",
    "Imports to use in Windows Environments"
   ]
  },
  {
   "cell_type": "code",
   "execution_count": null,
   "metadata": {},
   "outputs": [],
   "source": [
    "## Windows\n",
    "if platform == \"win32\" or platform == \"win64\":\n",
    "   from windows import FileSystem"
   ]
  },
  {
   "cell_type": "markdown",
   "metadata": {},
   "source": [
    "# Code Implementation\n",
    "Here you will implement your code to be executed after imports"
   ]
  },
  {
   "cell_type": "code",
   "execution_count": null,
   "metadata": {},
   "outputs": [],
   "source": [
    "## Examples to make your journey easier\n",
    "## Note: Replace the code below with your implementation\n",
    "\n",
    "# Get the path of your Desktop folder:\n",
    "print('{0}{1}'.format('Your Desktop Folder: ', FileSystem.Desktop))\n",
    "\n",
    "# Get the path of your Documents folder:\n",
    "print(f'Your Documents Folder: {FileSystem.Documents}')\n",
    "\n",
    "# Hello World!\n",
    "print(\"Hello World!\")\n",
    "\n",
    "# Math Sum\n",
    "print(\">> 2 + 3 =\", 2 + 3)\n",
    "\n",
    "# Throw an Exception using native library\n",
    "Exceptions.Throw.FileExists()"
   ]
  },
  {
   "cell_type": "markdown",
   "metadata": {},
   "source": [
    "#\n",
    "\n",
    "Copyright © 2023 Bisneto. All rights reserved."
   ]
  }
 ],
 "metadata": {
  "kernelspec": {
   "display_name": "Python 3.10.4 64-bit",
   "language": "python",
   "name": "python3"
  },
  "language_info": {
   "codemirror_mode": {
    "name": "ipython",
    "version": 3
   },
   "file_extension": ".py",
   "mimetype": "text/x-python",
   "name": "python",
   "nbconvert_exporter": "python",
   "pygments_lexer": "ipython3",
   "version": "3.11.2"
  },
  "orig_nbformat": 4,
  "vscode": {
   "interpreter": {
    "hash": "aee8b7b246df8f9039afb4144a1f6fd8d2ca17a180786b69acc140d282b71a49"
   }
  }
 },
 "nbformat": 4,
 "nbformat_minor": 2
}
